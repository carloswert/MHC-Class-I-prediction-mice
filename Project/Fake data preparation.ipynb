{
 "cells": [
  {
   "cell_type": "code",
   "execution_count": 12,
   "metadata": {},
   "outputs": [],
   "source": [
    "import numpy as np\n",
    "import matplotlib.pyplot as plot\n",
    "import scipy as sci\n",
    "import pandas as pd\n",
    "amino_acids = 'ACDEFGHIKLMNPQRSTVWY'\n",
    "#seeds 7,4,8,150,27\n",
    "np.random.seed(7)\n",
    "min_length = 12\n",
    "max_length = 12\n",
    "samples=500000\n",
    "lengths=np.round(np.random.randn(samples,1)*np.sqrt(max_length-min_length)+0.5*(max_length+min_length))\n",
    "lengths=lengths[lengths==12]"
   ]
  },
  {
   "cell_type": "code",
   "execution_count": 13,
   "metadata": {},
   "outputs": [
    {
     "name": "stderr",
     "output_type": "stream",
     "text": [
      "IOPub data rate exceeded.\n",
      "The notebook server will temporarily stop sending output\n",
      "to the client in order to avoid crashing it.\n",
      "To change this limit, set the config variable\n",
      "`--NotebookApp.iopub_data_rate_limit`.\n",
      "\n",
      "Current values:\n",
      "NotebookApp.iopub_data_rate_limit=1000000.0 (bytes/sec)\n",
      "NotebookApp.rate_limit_window=3.0 (secs)\n",
      "\n"
     ]
    }
   ],
   "source": [
    "protein=[\"\" for x in range(lengths.size)]\n",
    "number=range(1,lengths.size+1)\n",
    "for n in range(1,lengths.size):\n",
    "    for k in range(0,int(lengths[n-1])):\n",
    "        protein[n-1]=protein[n-1]+amino_acids[np.random.randint(0,20)]\n",
    "print(protein)"
   ]
  },
  {
   "cell_type": "code",
   "execution_count": 15,
   "metadata": {},
   "outputs": [],
   "source": [
    "protein=np.asarray(protein)\n",
    "ab = np.zeros(protein.size, dtype=[('var1', float),('var2', 'U14')])\n",
    "ab['var1'] = number\n",
    "ab['var2'] = protein\n",
    "np.savetxt('/Volumes/Maxtor/fakeproteins5.txt',ab,fmt=\">seq%d\\n%s\")"
   ]
  },
  {
   "cell_type": "code",
   "execution_count": 4,
   "metadata": {},
   "outputs": [
    {
     "name": "stdout",
     "output_type": "stream",
     "text": [
      "12.0\n"
     ]
    }
   ],
   "source": [
    "print(max(lengths))"
   ]
  },
  {
   "cell_type": "code",
   "execution_count": 14,
   "metadata": {},
   "outputs": [],
   "source": [
    "protein=np.asarray(protein)\n",
    "np.savetxt('/Users/carloswertcarvajal/Downloads/fakeproteins2.txt',protein,fmt=\"%s\")"
   ]
  },
  {
   "cell_type": "code",
   "execution_count": null,
   "metadata": {},
   "outputs": [],
   "source": []
  }
 ],
 "metadata": {
  "kernelspec": {
   "display_name": "Python 3",
   "language": "python",
   "name": "python3"
  },
  "language_info": {
   "codemirror_mode": {
    "name": "ipython",
    "version": 3
   },
   "file_extension": ".py",
   "mimetype": "text/x-python",
   "name": "python",
   "nbconvert_exporter": "python",
   "pygments_lexer": "ipython3",
   "version": "3.7.1"
  }
 },
 "nbformat": 4,
 "nbformat_minor": 2
}
