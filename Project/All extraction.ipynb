{
 "cells": [
  {
   "cell_type": "code",
   "execution_count": 1,
   "metadata": {},
   "outputs": [],
   "source": [
    "import numpy as np\n",
    "import scipy as sc\n",
    "import pandas as pd\n",
    "import matplotlib.pyplot as plt\n",
    "import itertools\n",
    "from Bio import Entrez\n",
    "from urllib.error import HTTPError,URLError\n",
    "import textwrap\n",
    "import time\n",
    "pd.set_option('display.max_columns', 500)"
   ]
  },
  {
   "cell_type": "code",
   "execution_count": 3,
   "metadata": {},
   "outputs": [],
   "source": [
    "def swmatrix(a, b, match_score=3, gap_cost=2):\n",
    "    H = np.zeros((len(a) + 1, len(b) + 1), np.int)\n",
    "    for i, j in itertools.product(range(1, H.shape[0]), range(1, H.shape[1])):\n",
    "        match = H[i - 1, j - 1] + (match_score if a[i - 1] == b[j - 1] else - match_score)\n",
    "        delete = H[i - 1, j] - gap_cost\n",
    "        insert = H[i, j - 1] - gap_cost\n",
    "        H[i, j] = max(match, delete, insert, 0)\n",
    "    return H\n",
    "def swtraceback(H, b, b_='', old_i=0):\n",
    "    # flip H to get index of **last** occurrence of H.max() with np.argmax()\n",
    "    H_flip = np.flip(np.flip(H, 0), 1)\n",
    "    i_, j_ = np.unravel_index(H_flip.argmax(), H_flip.shape)\n",
    "    i, j = np.subtract(H.shape, (i_ + 1, j_ + 1))  # (i, j) are **last** indexes of H.max()\n",
    "    if H[i, j] == 0:\n",
    "        return b_, j\n",
    "    b_ = b[j - 1] + '-' + b_ if old_i - i > 1 else b[j - 1] + b_\n",
    "    return swtraceback(H[0:i, 0:j], b, b_, i)\n",
    "def smith_waterman(a, b, match_score=3, gap_cost=2):\n",
    "    a, b = a.upper(), b.upper()\n",
    "    H = swmatrix(a, b, match_score, gap_cost)\n",
    "    b_, pos = swtraceback(H, b)\n",
    "    return pos, pos + len(b_)"
   ]
  },
  {
   "cell_type": "code",
   "execution_count": 4,
   "metadata": {},
   "outputs": [
    {
     "data": {
      "text/plain": [
       "(2, 4)"
      ]
     },
     "execution_count": 4,
     "metadata": {},
     "output_type": "execute_result"
    }
   ],
   "source": [
    "s1='FARGNYPAL'\n",
    "s2 = 'TTFLAHSLDTDK'\n",
    "smith_waterman(s1,s2)"
   ]
  },
  {
   "cell_type": "code",
   "execution_count": 16,
   "metadata": {},
   "outputs": [
    {
     "name": "stdout",
     "output_type": "stream",
     "text": [
      "1 Q9WTM5\n",
      "2 Q80XS6\n",
      "3 Q60974\n",
      "4 Q9CU65\n",
      "5 Q8BGZ2\n",
      "6 Q8R0X7\n",
      "7 Q91Y57\n",
      "8 Q62383\n",
      "9 Q8K4J0\n",
      "10 Q9EQ32\n",
      "11 P48299\n",
      "12 E9Q7E5\n",
      "Protein E9Q7E5 not found\n",
      "13 J3QMN6\n",
      "Protein J3QMN6 not found\n",
      "14 P39087\n",
      "15 Q9D0I9\n",
      "16 Q9D3B1\n",
      "17 Q24JP3\n",
      "18 Q5NCC9\n",
      "19 P49442\n",
      "20 Q60973\n",
      "21 Q9WTL2\n",
      "22 Q9EQW7\n",
      "23 Q6A051\n",
      "24 P51949\n",
      "25 Q8BKU8\n",
      "26 P70170\n",
      "27 P54841\n",
      "28 Q80UZ0\n",
      "29 P70325\n",
      "30 Q8R207\n",
      "31 Q7TN75\n",
      "32 Q91WG1\n",
      "33 D6RHA3\n",
      "Protein D6RHA3 not found\n",
      "34 P60335\n",
      "35 E9Q8B5\n",
      "Protein E9Q8B5 not found\n",
      "36 O09012\n",
      "37 Q8BXQ8\n",
      "38 F8VQ79\n",
      "Protein F8VQ79 not found\n",
      "39 Q80UY2\n",
      "40 Q9D3G9\n",
      "41 Q8BYM5\n",
      "42 Q0VG85\n",
      "43 Q62136\n",
      "44 Q80U44\n",
      "45 Q61474\n",
      "46 Q9JLV6\n",
      "47 Q9JJ80\n",
      "48 Q9Z1S8\n",
      "49 Q9D4H4\n",
      "50 Q3U4B1\n",
      "51 Q03145\n",
      "52 P03314\n",
      "53 Q76NM2\n",
      "54 P9WPE5\n",
      "55 P9WPE7\n",
      "56 P17366\n",
      "57 P04300\n",
      "58 P24757\n",
      "59 K4ED23\n",
      "Protein K4ED23 not found\n",
      "60 K4E869\n",
      "Protein K4E869 not found\n",
      "61 K4E901\n",
      "Protein K4E901 not found\n",
      "62 209976837\n",
      "63 P30672\n",
      "64 Q9RB65\n",
      "65 P27542\n",
      "66 Q7VQ47\n",
      "67 Q9Z7W9\n",
      "68 K9L3Y9\n",
      "Protein K9L3Y9 not found\n",
      "69 A2T3T0\n",
      "70 Q6WBA1\n",
      "71 Q06A28\n",
      "72 A2T3P5\n",
      "73 A2T3S5\n",
      "74 9629585\n",
      "75 209976844\n",
      "76 9629569\n",
      "77 9629558\n",
      "78 9629568\n",
      "79 9629557\n",
      "80 9629621\n",
      "81 F8WCM5\n",
      "82 P03332\n",
      "83 P03355\n",
      "84 Q02218\n",
      "85 P9WNK3\n",
      "86 P06336\n",
      "87 P02769\n",
      "88 P08292\n",
      "89 P10745\n",
      "90 P04019\n",
      "91 P10605\n",
      "92 P31493\n",
      "93 P03415\n",
      "94 Q61885\n",
      "95 Q4Z2Z4\n",
      "96 Q4YYI4\n",
      "97 Q5NGI4\n",
      "98 Q5NFA4\n",
      "99 Q5NG85\n",
      "100 Q5NG37\n",
      "101 Q2A1X3\n",
      "102 Q5NEU8\n",
      "103 Q5NGW7\n",
      "104 Q2A176\n",
      "105 Q5NF49\n",
      "106 Q5NEU3\n",
      "107 Q5NIH8\n",
      "108 Q5NGP8\n",
      "109 Q5NI41\n",
      "110 Q5NFP2\n",
      "111 Q5NH28\n",
      "112 Q5NGY7\n",
      "113 Q5NG13\n",
      "114 Q5NEW2\n",
      "115 Q5NFM6\n",
      "116 Q5NG52\n",
      "117 Q5NHG6\n",
      "118 Q5NHK7\n",
      "119 Q5NIN8\n",
      "120 Q5NE67\n",
      "121 Q5NHB1\n",
      "122 Q5NIG8\n",
      "123 Q5NFE6\n",
      "124 Q5NGN1\n",
      "125 Q5NF02\n",
      "Protein Q5NF02 not found\n",
      "126 Q5NEZ7\n",
      "Protein Q5NEZ7 not found\n",
      "127 Q5NHK4\n",
      "128 Q5NHA3\n",
      "129 Q5NEJ1\n",
      "130 Q5NH71\n",
      "131 Q5NIP9\n",
      "132 Q5NHS7\n",
      "133 Q5NI10\n",
      "134 Q5NI07\n",
      "135 Q2A4L1\n",
      "136 Q5NF20\n",
      "137 Q5NFS7\n",
      "138 Q5NFU4\n",
      "139 Q5NH23\n",
      "140 Q5NHK5\n",
      "141 Q5NEK0\n",
      "142 Q5NI68\n",
      "143 Q5NHP1\n",
      "144 Q5NHM3\n",
      "145 Q5NFU6\n",
      "146 Q5NH97\n",
      "147 Q5NHG2\n",
      "148 Q01225\n",
      "149 Q76R61\n",
      "150 P16473\n",
      "151 Q83884\n",
      "152 P35253\n",
      "153 Q7T9D9\n",
      "154 P59594\n",
      "155 Q8I5P1\n",
      "156 P9WNK7\n",
      "157 P9WNI9\n",
      "158 P68331\n",
      "159 Q4YI47\n",
      "160 301173444\n",
      "161 301173445\n",
      "162 P9WQP1\n",
      "163 P03264\n",
      "164 P06463\n",
      "165 Q7CLC0\n",
      "166 Q7CLC5\n",
      "167 Q7CFW9\n",
      "168 Q8ZJE6\n",
      "169 Q7CKS7\n",
      "170 Q8ZIZ8\n",
      "171 Q7CKM5\n",
      "172 Q7CG40\n",
      "173 Q74Q55\n",
      "174 Q0WJ82\n",
      "175 Q7CGH9\n",
      "176 Q7CGI7\n",
      "177 Q0WIQ6\n",
      "178 Q7CGV4\n",
      "179 Q7CGR7\n",
      "180 Q0WI62\n",
      "181 Q7CGN1\n",
      "182 Q74RY3\n",
      "183 Q7CH49\n",
      "184 Q7CH59\n",
      "185 Q0WHJ6\n",
      "186 Q7CH92\n",
      "187 Q7CHC8\n",
      "188 Q56978\n",
      "189 Q7CHF3\n",
      "190 Q7CHG7\n",
      "191 Q7CHJ7\n",
      "192 Q7CHL6\n",
      "193 Q74VC2\n",
      "194 Q3V8F6\n",
      "195 Q7CJ04\n",
      "196 Q7CIY8\n",
      "197 Q7CHZ6\n",
      "198 Q0WFU0\n",
      "199 Q7CI11\n",
      "200 Q9ZC50\n",
      "201 Q9ZC55\n",
      "202 Q9ZC77\n",
      "203 Q7CI97\n",
      "204 Q0WFC5\n",
      "205 Q7CIA6\n",
      "206 Q8ZEW3\n",
      "207 Q7CIM9\n",
      "208 Q8ZEH4\n",
      "209 Q0WET2\n",
      "210 Q0WEJ9\n",
      "211 Q7CIP6\n",
      "212 Q7CIR1\n",
      "213 Q8ZDX8\n",
      "214 Q74TE6\n",
      "215 Q56955\n",
      "216 Q56956\n",
      "217 Q74TB8\n",
      "218 Q7CJ42\n",
      "219 Q7CJ85\n",
      "220 Q7CJ92\n",
      "221 Q0WDK4\n",
      "222 Q74SS4\n",
      "223 Q7CJQ7\n",
      "224 Q7CJ99\n",
      "225 Q0WDA5\n",
      "226 Q0WDA4\n",
      "227 Q0WD86\n",
      "228 Q7CJY4\n",
      "229 Q7CJK1\n",
      "230 Q8ZCV9\n",
      "231 Q7CJL8\n",
      "232 Q7CJM0\n",
      "233 Q8ZCS5\n",
      "234 Q7CJP1\n",
      "235 Q0WCZ9\n",
      "236 Q7CJD1\n",
      "237 Q7CJD8\n",
      "238 Q0WCU0\n",
      "239 Q7CJF4\n",
      "240 Q7CJJ6\n",
      "241 Q0WCJ0\n",
      "242 Q9RCC7\n",
      "243 Q7CK34\n",
      "244 Q7CK50\n",
      "245 Q7CK57\n",
      "246 Q8ZC08\n",
      "247 Q74WX5\n",
      "248 Q7CKD8\n",
      "249 Q7CKH9\n",
      "250 Q8ZAN0\n",
      "251 Q7CKV0\n",
      "252 Q7CKV5\n",
      "253 Q7CKV6\n",
      "254 Q7CKW4\n",
      "255 Q7CKZ0\n",
      "256 Q7CFQ4\n",
      "257 Q8Z9X7\n",
      "258 Q7CFQ0\n",
      "259 Q7CFP1\n",
      "260 Q7ARG3\n"
     ]
    }
   ],
   "source": [
    "Entrez.email =\"carloswertcarvajal@gmail.com\"\n",
    "IEDB = pd.read_csv('/Volumes/Maxtor/h2kball1.csv')\n",
    "IEDB2 = pd.read_csv('/Volumes/Maxtor/h2kball2.csv')\n",
    "IEDB = pd.concat([IEDB,IEDB2],ignore_index=True,sort=True)\n",
    "IEDB = IEDB[['Epitope.2','Epitope.8','Assay.4']]\n",
    "IEDB = IEDB[~(IEDB['Assay.4']=='Negative')]\n",
    "IEDB = IEDB.drop_duplicates(subset='Epitope.2')\n",
    "IEDB = IEDB.dropna(axis=0,subset=['Epitope.8']).reset_index(drop=True)\n",
    "namprop = IEDB[['Epitope.8']].drop_duplicates(subset='Epitope.8').reset_index(drop=True)\n",
    "namprop = namprop.drop(list(range(0,4089))).reset_index(drop=True)\n",
    "proteins=pd.DataFrame(columns=['peptides','NB'])\n",
    "cc=0\n",
    "window_size = 12\n",
    "for index, row in namprop.iterrows():\n",
    "    errorch = 0\n",
    "    if index == 0:\n",
    "        pass\n",
    "    else:\n",
    "        line = row['Epitope.8']\n",
    "        print(index,line)\n",
    "        try:\n",
    "            handle = Entrez.efetch(db=\"protein\", id=line, retmode=\"xml\")\n",
    "        except HTTPError:\n",
    "            time.sleep(20)\n",
    "            try:\n",
    "                handle = Entrez.efetch(db=\"protein\", id=line, retmode=\"xml\")\n",
    "            except HTTPError:\n",
    "                errorch = 1\n",
    "                print('Protein '+line+' not found')\n",
    "        except URLError:\n",
    "            time.sleep(20)\n",
    "            handle = Entrez.efetch(db=\"protein\", id=line, retmode=\"xml\")\n",
    "        if errorch == 1:\n",
    "            pass\n",
    "        else:\n",
    "            records = Entrez.read(handle)\n",
    "            time.sleep(1) # to make sure not many requests go per second to ncbi\n",
    "            orig = records[0][\"GBSeq_sequence\"].upper()\n",
    "            s2 = orig\n",
    "            peptss = IEDB[IEDB['Epitope.8']==line].reset_index(drop=True)\n",
    "            peptss = peptss.drop_duplicates(subset='Epitope.2').reset_index(drop=True)\n",
    "            for index, row in peptss.iterrows():\n",
    "                s1 = row['Epitope.2']\n",
    "                p1, p2 = smith_waterman(s1,s2)\n",
    "                pos1, pos2 = smith_waterman(s1,orig)\n",
    "                ctr = int(np.round(np.mean([pos1,pos2])))\n",
    "                cc=cc+1\n",
    "                proteins.loc[cc]=[orig[ctr-int(window_size/2):ctr+int(window_size/2)],int(1)]\n",
    "                s2 = s2[:p1] + s2[p2+1:]\n",
    "            peps = textwrap.wrap(s2,window_size)\n",
    "            for n in range (0,len(peps)-1):\n",
    "                cc=cc+1\n",
    "                proteins.loc[cc]=[peps[n],int(0)]\n",
    "proteins = proteins.drop_duplicates(subset='peptides')\n",
    "proteins.to_csv(\"/Volumes/Maxtor/windowpeptides7.csv\",index=False)"
   ]
  },
  {
   "cell_type": "code",
   "execution_count": 102,
   "metadata": {},
   "outputs": [
    {
     "name": "stdout",
     "output_type": "stream",
     "text": [
      "['12', '34', '56', '78', '9']\n"
     ]
    }
   ],
   "source": [
    "hola = textwrap.wrap(\"123456789\", 2)\n",
    "print(hola)\n",
    "#1126"
   ]
  },
  {
   "cell_type": "code",
   "execution_count": 14,
   "metadata": {
    "scrolled": true
   },
   "outputs": [
    {
     "name": "stdout",
     "output_type": "stream",
     "text": [
      "           peptides NB\n",
      "1      FQINVFFYTVPL  1\n",
      "2      MAAPLALVLVVA  0\n",
      "3      VTVRAALFRSSL  0\n",
      "4      AEFISERVEVVS  0\n",
      "5      PLSSWKRVVEGL  0\n",
      "6      ALLDLGVSPYSG  0\n",
      "7      AVFHETPLIIYL  0\n",
      "8      FHFLIDYAELVF  0\n",
      "9      MITDALTAIALY  0\n",
      "10     FAIQDFNKVVFK  0\n",
      "11     KQKLLLELDQYA  0\n",
      "12     PDVAELIRTPME  0\n",
      "13     MRYIPLKVALYL  0\n",
      "14     LNPYTILSCVAK  0\n",
      "15     STCAINNTLIAF  0\n",
      "16     FILTTIKGSVFL  0\n",
      "17     SAVFLALATYQS  0\n",
      "18     LYPVTLFAPGLL  0\n",
      "19     YLLQRQYIPVKV  0\n",
      "20     KSKAFWIFSWEY  0\n",
      "21     AMMYTGSLVVIV  0\n",
      "22     CLSFFLLSSWDF  0\n",
      "23     IPAVYGFILSVP  0\n",
      "24     DLTPNIGLFWYF  0\n",
      "25     FAEMFEHFSLFF  0\n",
      "26     VCVFQLAIKLKE  0\n",
      "27     HPIFFMFIQIAI  0\n",
      "28     ISIFKSYPTVGD  0\n",
      "29     VALYMAFFPVWN  0\n",
      "30     HLYRFLRNIFVL  0\n",
      "...             ... ..\n",
      "76315  MGNIGRQLAMYE  0\n",
      "76316  AYSIQGQHTISP  1\n",
      "76317  MDAGVTESGLNV  0\n",
      "76318  TLTIRLLMHGKE  0\n",
      "76319  VGSIIGKKGESV  0\n",
      "76320  KRIREESGARIN  0\n",
      "76321  ISEGNCPERIIT  0\n",
      "76322  LTGPTNAIFKAF  0\n",
      "76323  AMIIDKLEEDIN  0\n",
      "76324  SSMTNSTAASRP  0\n",
      "76325  PVTLRLVVPATQ  0\n",
      "76326  CGSLIGKGGCKI  0\n",
      "76327  KEIRESTGAQVQ  0\n",
      "76328  VAGDMLPNSTER  0\n",
      "76329  AITIAGVPQSVT  0\n",
      "76330  ECVKQICLVMLE  0\n",
      "76331  TLSQSPQGRVMT  0\n",
      "76332  IPYQPMPASSPV  0\n",
      "76333  ICAGGQDRCSDA  0\n",
      "76334  AGYPHATHDLEG  0\n",
      "76335  PPLDAPLDLAKL  0\n",
      "76336  NQVARQQSHFAM  0\n",
      "76337  MHGGTGFAGIDS  0\n",
      "76338  SSPEVKGYWASL  0\n",
      "76339  DASTQTTHELTI  0\n",
      "76340  PNNLIGCIIGRQ  0\n",
      "76341  GANINEIRQMSG  0\n",
      "76342  AQIKIANPVEGS  0\n",
      "76343  SGRQVTITGSAA  0\n",
      "76344  SISLAQYLINAR  0\n",
      "\n",
      "[76344 rows x 2 columns]\n"
     ]
    }
   ],
   "source": [
    "print(proteins)\n",
    "proteins = proteins.drop_duplicates(subset='peptides')\n",
    "proteins.to_csv(\"/Volumes/Maxtor/windowpeptides7.csv\",index=False)"
   ]
  },
  {
   "cell_type": "code",
   "execution_count": 54,
   "metadata": {},
   "outputs": [
    {
     "name": "stdout",
     "output_type": "stream",
     "text": [
      "TRVAFAGL\n"
     ]
    }
   ],
   "source": [
    "print(IEDB.loc[1,'Epitope.2'])"
   ]
  },
  {
   "cell_type": "code",
   "execution_count": 15,
   "metadata": {},
   "outputs": [
    {
     "name": "stdout",
     "output_type": "stream",
     "text": [
      "4089\n"
     ]
    }
   ],
   "source": [
    "print(1388+474+458+293+259+1217)"
   ]
  },
  {
   "cell_type": "code",
   "execution_count": 21,
   "metadata": {
    "scrolled": true
   },
   "outputs": [
    {
     "name": "stdout",
     "output_type": "stream",
     "text": [
      "     Epitope.8\n",
      "4349    Q7ARG3\n"
     ]
    }
   ],
   "source": [
    "IEDB = pd.read_csv('/Volumes/Maxtor/h2kball1.csv')\n",
    "IEDB2 = pd.read_csv('/Volumes/Maxtor/h2kball2.csv')\n",
    "IEDB = pd.concat([IEDB,IEDB2],ignore_index=True,sort=True)\n",
    "IEDB = IEDB[['Epitope.2','Epitope.8','Assay.4']]\n",
    "IEDB = IEDB[~(IEDB['Assay.4']=='Negative')]\n",
    "IEDB = IEDB.drop_duplicates(subset='Epitope.2')\n",
    "IEDB = IEDB.dropna(axis=0,subset=['Epitope.8']).reset_index(drop=True)\n",
    "namprop = IEDB[['Epitope.8']].drop_duplicates(subset='Epitope.8').reset_index(drop=True)\n",
    "#namprop = namprop.drop(list(range(132,180))).reset_index(drop=True)\n",
    "#Q99JY0\n",
    "print(namprop[namprop['Epitope.8']=='Q7ARG3'])"
   ]
  },
  {
   "cell_type": "code",
   "execution_count": 94,
   "metadata": {},
   "outputs": [
    {
     "name": "stdout",
     "output_type": "stream",
     "text": [
      "    Epitope.8\n",
      "200    Q9D902\n",
      "201    P58749\n",
      "202    Q8K4I3\n",
      "203    O88845\n",
      "204    P43247\n",
      "205    Q8CH77\n",
      "206    E9PVP1\n",
      "207    P47753\n",
      "208    Q99L48\n",
      "209    Q8R574\n",
      "210    Q9JHF5\n",
      "211    Q8K4Z5\n",
      "212    P62245\n",
      "213    Q3UFY0\n",
      "214    Q920Q4\n",
      "215    Q91YE5\n",
      "216    Q3UHQ6\n",
      "217    P40201\n",
      "218    Q8BH79\n",
      "219    Q8BHK1\n",
      "220    Q80W47\n",
      "221    Q64343\n",
      "222    P15307\n",
      "223    Q9ERE3\n",
      "224    Q91XB7\n",
      "225    P28867\n",
      "226    Q8C4B4\n",
      "227    Q9CZM2\n",
      "228    Q9CPV7\n",
      "229    Q09014\n",
      "230    Q6NS46\n"
     ]
    }
   ],
   "source": [
    "namprop = IEDB[['Epitope.8']].drop_duplicates(subset='Epitope.8').reset_index(drop=True)\n",
    "namprop = namprop.drop(list(range(132,180))).reset_index(drop=True)\n",
    "print(namprop.loc[200:230])"
   ]
  },
  {
   "cell_type": "code",
   "execution_count": 38,
   "metadata": {},
   "outputs": [
    {
     "name": "stdout",
     "output_type": "stream",
     "text": [
      "            peptides  NB\n",
      "0       EYAAEYEAGVEE   0\n",
      "1       NTKGLHHLQLIL   1\n",
      "2       SLSKRKLELEVE   0\n",
      "3       PVLDCSIADCLH   0\n",
      "4       TERFGQGGAGPV   0\n",
      "5       RLKDGVLAYARV   0\n",
      "6       EGVQLFGLLNFY   0\n",
      "7       LLVGNYMNSGSR   0\n",
      "8       DVDESTLSPEEQ   0\n",
      "9       VCVPACPPGTYR   0\n",
      "10      ERPGLSLTQDVL   0\n",
      "11      YMLPLDNLKIRD   0\n",
      "12      PMRGMSNNTPQL   0\n",
      "13      VHHAKTTKPQAQ   0\n",
      "14      IKALSKDLPKVV   0\n",
      "15      PLPHRDRDRDRE   0\n",
      "16      SLLSKKHNKVLE   0\n",
      "17      LSQKEQAAEHYK   0\n",
      "18      SRAEGYEKTDDV   0\n",
      "19      RVIEVVQGACRA   0\n",
      "20      MTYEWYLPKMAR   0\n",
      "21      SKEKDRQSPLHG   0\n",
      "22      NINHPDIRLKQL   0\n",
      "23      TGSSHERFLSFS   0\n",
      "24      TLKREGVCAASL   0\n",
      "25      LSNPCLKKENTE   0\n",
      "26      QRMDVFYLQPEC   0\n",
      "27      RIPDGEAGFSKS   0\n",
      "28      QKTSSSSPLSSP   0\n",
      "29      VVRGVDWQWEDQ   0\n",
      "...              ...  ..\n",
      "251019  SLSIYSIWFYDK   0\n",
      "251020  TTNEYDGHTTYP   0\n",
      "251021  IGADVSHLNLHK   0\n",
      "251022  NVQGELSAYASV   0\n",
      "251023  TATLGRRLVNIT   0\n",
      "251024  LTRPCSPQNKIS   0\n",
      "251025  LQHFIYMKVNIA   0\n",
      "251026  ALRKSACRVFAM   0\n",
      "251027  TILDGEGDDRRQ   0\n",
      "251028  VLEKVDVEQKMS   0\n",
      "251029  SGSLGKELEAAQ   0\n",
      "251030  AALPQSSERLFQ   0\n",
      "251031  ALTEEFSQVYSL   0\n",
      "251032  EMVKANTLAGDP   0\n",
      "251033  LESCRSMIALMD   0\n",
      "251034  LNSNLDPSEVEK   0\n",
      "251035  RSNLSMISHGQR   0\n",
      "251036  TSQKVDTALKQL   0\n",
      "251037  QWDCFWHRDLNL   0\n",
      "251038  NEAHAIKCVACN   0\n",
      "251039  PSGPEDEVLPST   0\n",
      "251040  RFSVRYLRSARS   0\n",
      "251041  NRSSSPSEQESN   0\n",
      "251042  TCFCKRLVTGHG   0\n",
      "251043  YPTEQVTIQVLP   0\n",
      "251044  TLRVSLIQDMTD   0\n",
      "251045  FVFENKLKKYNK   0\n",
      "251046  TSVSWITPNGTV   0\n",
      "251047  PTPSNIRMATHT   0\n",
      "251048  SAGAVIGALIGS   0\n",
      "\n",
      "[251049 rows x 2 columns]\n",
      "0.9732562169138296\n",
      "12.0 EYAAEYEAGVEE EYAAEYEAGVEE\n"
     ]
    }
   ],
   "source": [
    "pt1 = pd.read_csv('/Volumes/Maxtor/windowpeptides1.csv')\n",
    "pt2 = pd.read_csv('/Volumes/Maxtor/windowpeptides2.csv')\n",
    "pt3 = pd.read_csv('/Volumes/Maxtor/windowpeptides3.csv')\n",
    "pt4 = pd.read_csv('/Volumes/Maxtor/windowpeptides4.csv')\n",
    "pt5 = pd.read_csv('/Volumes/Maxtor/windowpeptides5.csv')\n",
    "pt6 = pd.read_csv('/Volumes/Maxtor/windowpeptides6.csv')\n",
    "pt7 = pd.read_csv('/Volumes/Maxtor/windowpeptides7.csv')\n",
    "pt = pd.concat([pt1,pt2,pt3,pt4,pt5,pt6,pt7],ignore_index=True)\n",
    "pt = pt.drop_duplicates(subset='peptides')\n",
    "indexes_to_drop = []\n",
    "for index,row in pt.iterrows():\n",
    "    if type(row['peptides'])==float:\n",
    "        indexes_to_drop.append(index)\n",
    "    elif len(row['peptides'])<12:\n",
    "        indexes_to_drop.append(index)\n",
    "    else:\n",
    "        pass\n",
    "pt = pt.drop(indexes_to_drop)\n",
    "np.random.seed(123)\n",
    "pt = pt.sample(frac=1).reset_index(drop=True)\n",
    "print(pt)\n",
    "negg = len(pt[pt['NB']==0])\n",
    "poss = len(pt[pt['NB']==1])\n",
    "total = negg+poss\n",
    "print(negg/total)\n",
    "strings = pt['peptides']\n",
    "pt.to_csv(\"/Volumes/Maxtor/4train.csv\",index=False)"
   ]
  },
  {
   "cell_type": "code",
   "execution_count": 28,
   "metadata": {},
   "outputs": [
    {
     "name": "stdout",
     "output_type": "stream",
     "text": [
      "             peptides  NB\n",
      "0       MKVKVLSLLVPAL   0\n",
      "1       LVAGAANAAEIYN   0\n",
      "2       KDGNKLDLFGKVD   0\n",
      "3       GLHYFSDDKGSDG   0\n",
      "4       DQTYMRIGFKGET   0\n",
      "5       QVNDQLTGYGQWE   0\n",
      "6       YQIQGNQTEGSND   0\n",
      "7       SWFADAGSFDYGR   0\n",
      "8       NYGVTYDVTSWTD   0\n",
      "9       VLPEFGGDTYGAD   0\n",
      "10      NFMQQRGNGYATY   0\n",
      "11      DGLDFALQYQGKN   0\n",
      "12      GSVSGENTNGRSL   0\n",
      "13      LNQNGDGYGGSLT   0\n",
      "14      YAIGEGFSVGGAI   0\n",
      "15      TTSKRTADQNNTA   0\n",
      "16      NARLYGNGDRATV   0\n",
      "17      YTGGLKYDANNIY   0\n",
      "18      LAAQYSQTYNATR   0\n",
      "19      FGTSNGSNPSTSY   0\n",
      "20      GFANKAQNFEVVA   0\n",
      "21      QYQFDFGLRPSVA   0\n",
      "22      YLQSKGKDISNGY   0\n",
      "23      GASYGDQDIVKYV   0\n",
      "24      DVGATYYFNKNMS   0\n",
      "25      TYVDYKINLLDKN   0\n",
      "26      DFTRDAGINTDDI   0\n",
      "27      MADSHNTQYCSLQ   0\n",
      "28      ESAQAQQELDNDQ   0\n",
      "29      ETMETSEEEEDTT   0\n",
      "...               ...  ..\n",
      "224638  VDSMKKIIFYSHA   0\n",
      "224639  AEKYPADITAYLN   0\n",
      "224640  VADDCQYFSGEWD   0\n",
      "224641  STLPKERQIEIEK   0\n",
      "224642  KVNVTCSKARSLQ   0\n",
      "224643  EKLSVKYKKRQDL   0\n",
      "224644  MKNRIAFLIGSFI   0\n",
      "224645  IALLIGFDLYYHM   0\n",
      "224646  IYFLYGSKAILAY   0\n",
      "224647  DVFTLMTSNAVNA   0\n",
      "224648  LLLSISVTISYLP   0\n",
      "224649  LLFIKEGAIQNKM   0\n",
      "224650  VFSFLSLSFYFIL   0\n",
      "224651  LLTTSPYANHNVI   0\n",
      "224652  HGYDLIIACNIIL   0\n",
      "224653  SSIINLFLIRKVI   0\n",
      "224654  MSELVHVQLGGPM   0\n",
      "224655  ARHFGRHWHLKVR   0\n",
      "224656  NTKQALDLVEANR   0\n",
      "224657  PGLKAWMKRNMKT   0\n",
      "224658  YDKYHIQITNKQG   0\n",
      "224659  HKWSVDESEFQMM   0\n",
      "224660  GQSDNIAKIRITP   0\n",
      "224661  VPRGSGGKAFGWF   0\n",
      "224662  QTVVGALVMVPLG   0\n",
      "224663  LSLMMGGISQLIS   0\n",
      "224664  PQATNDSVRQADN   0\n",
      "224665  SNSFYFDGPQNTT   0\n",
      "224666  NQGNPVQLIYGEE   0\n",
      "224667  ILVGSQVVSSSIT   0\n",
      "\n",
      "[224668 rows x 2 columns]\n"
     ]
    }
   ],
   "source": [
    "Neg1 = pd.read_csv('/Volumes/Maxtor/realnegatives.csv')\n",
    "print(Neg1)"
   ]
  },
  {
   "cell_type": "code",
   "execution_count": 52,
   "metadata": {},
   "outputs": [],
   "source": [
    "IEDB = pd.read_csv('/Volumes/Maxtor/secondtrain.csv')\n",
    "Neg1 = pd.read_csv('/Volumes/Maxtor/realnegatives.csv')\n",
    "Neg1 = Neg1.sample(frac=0.3).reset_index(drop=True)\n",
    "allp = pd.concat([IEDB,Neg1],ignore_index=True,sort=True)\n",
    "allp = allp[['peptides','NB']]\n",
    "allp = allp.sample(frac=1).reset_index(drop=True)\n"
   ]
  },
  {
   "cell_type": "code",
   "execution_count": 53,
   "metadata": {},
   "outputs": [
    {
     "name": "stdout",
     "output_type": "stream",
     "text": [
      "0.9010762107370792\n"
     ]
    }
   ],
   "source": [
    "negg = len(allp[allp['NB']==0])\n",
    "poss = len(allp[allp['NB']==1])\n",
    "total = negg+poss\n",
    "print(negg/total)"
   ]
  },
  {
   "cell_type": "code",
   "execution_count": 54,
   "metadata": {},
   "outputs": [],
   "source": [
    "allp.to_csv(\"/Volumes/Maxtor/thirdtrain.csv\",index=False)"
   ]
  },
  {
   "cell_type": "code",
   "execution_count": 8,
   "metadata": {},
   "outputs": [],
   "source": []
  },
  {
   "cell_type": "code",
   "execution_count": 14,
   "metadata": {},
   "outputs": [],
   "source": [
    "IEDB = pd.read_csv('/Volumes/Maxtor/h2kball1.csv')\n",
    "IEDB2 = pd.read_csv('/Volumes/Maxtor/h2kball2.csv')\n",
    "IEDB = pd.concat([IEDB,IEDB2],ignore_index=True,sort=True)\n",
    "IEDB = IEDB[['Epitope.2','Epitope.8','Assay.4']]\n",
    "IEDB = IEDB[~(IEDB['Assay.4']=='Negative')]\n",
    "IEDB = IEDB.drop_duplicates(subset='Epitope.2')\n",
    "IEDB = IEDB.dropna(axis=0,subset=['Epitope.8']).reset_index(drop=True)\n",
    "strings = IEDB['Epitope.2']\n",
    "total_avg = sum( map(len, strings) ) / len(strings)\n",
    "total_max = max(strings, key=len)\n",
    "total_min = min(strings, key=len)"
   ]
  },
  {
   "cell_type": "code",
   "execution_count": 16,
   "metadata": {},
   "outputs": [
    {
     "name": "stdout",
     "output_type": "stream",
     "text": [
      "9.48537321264594 36 6\n"
     ]
    }
   ],
   "source": [
    "print(total_avg, len(total_max), len(total_min))"
   ]
  },
  {
   "cell_type": "code",
   "execution_count": 19,
   "metadata": {},
   "outputs": [
    {
     "data": {
      "text/plain": [
       "(array([3.327e+03, 3.397e+03, 3.780e+02, 3.160e+02, 1.490e+02, 4.700e+01,\n",
       "        6.000e+00, 0.000e+00, 1.000e+00, 2.000e+00]),\n",
       " array([ 6.,  9., 12., 15., 18., 21., 24., 27., 30., 33., 36.]),\n",
       " <a list of 10 Patch objects>)"
      ]
     },
     "execution_count": 19,
     "metadata": {},
     "output_type": "execute_result"
    },
    {
     "data": {
      "image/png": "[encoded data removed]",
      "text/plain": [
       "<Figure size 432x288 with 1 Axes>"
      ]
     },
     "metadata": {
      "needs_background": "light"
     },
     "output_type": "display_data"
    }
   ],
   "source": [
    "lens = list(map(len, strings))\n",
    "plt.hist(lens)"
   ]
  },
  {
   "cell_type": "code",
   "execution_count": 46,
   "metadata": {},
   "outputs": [
    {
     "name": "stdout",
     "output_type": "stream",
     "text": [
      "ALGITYDGMMTDVL\n",
      "14\n"
     ]
    }
   ],
   "source": [
    "s1='LGITYDGMMTD'\n",
    "s2 = 'MADSHNTQYCSLQESAQAQQELDNDQETMETSEEEEDTTTSNKVYGSGIPSPPQSPQRAYSPCVALASIPDSPSEEASIKGSGGLEDPLYLLHNAQNTKVYDLVDFLVLNYQMKAFTTKAEMLESIGREYEEYYPLIFSEASECLKMVFGLDMVEVDPSVHSYILVTALGITYDGMMTDVLGMPKTGILIAVLSVIFMKGNYVSEEIIWEMVNNIGLCGGRDPYIHKDPRKLISEEFVQEGCLKYRQVPNSDPPSYGFLWGPRAFAETSKMKVLQFFASINKTHPRAYPEKYAEALQDEIDRTKAWILNRCSNSSDLLTF'\n",
    "\n",
    "p1,p2 = smith_waterman(s1,s2)\n",
    "ctr = int(np.round(np.mean([p1,p2])))\n",
    "window = 14\n",
    "print(s2[ctr-int(window/2):ctr+int(window/2)])\n",
    "print(len(s2[ctr-int(window/2):ctr+int(window/2)]))"
   ]
  },
  {
   "cell_type": "code",
   "execution_count": 29,
   "metadata": {},
   "outputs": [
    {
     "name": "stdout",
     "output_type": "stream",
     "text": [
      "172.0\n"
     ]
    }
   ],
   "source": [
    "ctr = np.mean([p1,p2])\n",
    "print(ctr)"
   ]
  },
  {
   "cell_type": "code",
   "execution_count": 45,
   "metadata": {},
   "outputs": [],
   "source": [
    "IEDB = pd.read_csv('/Volumes/Maxtor/h2kball1.csv')\n",
    "IEDB2 = pd.read_csv('/Volumes/Maxtor/h2kball2.csv')\n",
    "IEDB = pd.concat([IEDB,IEDB2],ignore_index=True,sort=True)\n",
    "IEDB = IEDB[['Epitope.2','Assay.4']]\n",
    "opos = IEDB[~(IEDB['Assay.4']=='Negative')]\n",
    "opos_f = pd.DataFrame(columns=['peptides','NB'])\n",
    "cc = 0\n",
    "window_size = 14\n",
    "for index, row in opos.iterrows():\n",
    "    if index==0:\n",
    "        pass\n",
    "    else:\n",
    "        if len(row['Epitope.2'])>=14:\n",
    "                orig = row['Epitope.2']\n",
    "                ctr = int(np.round((len(row['Epitope.2'])-1)/2))\n",
    "                cc=cc+1\n",
    "                opos_f.loc[cc]=[orig[ctr-int(window_size/2):ctr+int(window_size/2)],int(1)]"
   ]
  },
  {
   "cell_type": "code",
   "execution_count": 46,
   "metadata": {},
   "outputs": [
    {
     "name": "stdout",
     "output_type": "stream",
     "text": [
      "           peptides NB\n",
      "1    IRGTKVSPRGKLST  1\n",
      "2    EFNIIS + AMID(  1\n",
      "3    QYVYGR + AMID(  1\n",
      "4    CKISPLMVAYMLER  1\n",
      "5    DSGPSNTPPEIHPV  1\n",
      "6    FIRGTKVSPRGKLS  1\n",
      "7    TRDVLNLYADFIAS  1\n",
      "8    AHSMQRHLRRLGRT  1\n",
      "9    TRDVLDLFADFIAS  1\n",
      "10   TRDVLNLFADFIAS  1\n",
      "11   TRDVLQLFADFIAS  1\n",
      "12   VYNFATM + MCM(  1\n",
      "13   YVYQGL + GLYC(  1\n",
      "14   CQIFANI + ABA(  1\n",
      "15   CYIFANI + ABA(  1\n",
      "16   GFFAMNHQNQWQWT  1\n",
      "17   LLELCKLPTFLGNP  1\n",
      "18   GLNSSFNFTAPFIS  1\n",
      "19   PFISPTHYRQTSYT  1\n",
      "20   RWVRSGGANGANFP  1\n",
      "21   ANFPLMTKQDYAFL  1\n",
      "22   GQAEPDRAHYNIVT  1\n",
      "23   QAEPDRAHYNIVTF  1\n",
      "24   RAHYNIVTFCCKCD  1\n",
      "25   AHYNIVTFCCKCDS  1\n",
      "26   HYNIVTFCCKCDST  1\n",
      "27   YNIVTFCCKCDSTL  1\n",
      "28   NIVTFCCKCDSTLR  1\n",
      "29   KCDSTLRLCVQSTH  1\n",
      "30   CDSTLRLCVQSTHV  1\n",
      "..              ... ..\n",
      "853  ISSPPMFRVPVNPV  1\n",
      "854  ISSPPMFRVPVNPV  1\n",
      "855  ISSPPMFRVPVNPV  1\n",
      "856  ISSPPMFRVPVNPV  1\n",
      "857  ISSPPMFRVPVNPV  1\n",
      "858  ISSPPMFRVPVNPV  1\n",
      "859  ISSPPMFRVPVNPV  1\n",
      "860  ISSPPMFRVPVNPV  1\n",
      "861  SRKYPARALEYKNL  1\n",
      "862  SRKYPARALEYKNL  1\n",
      "863  SRKYPARALEYKNL  1\n",
      "864  SRKYPARALEYKNL  1\n",
      "865  SRKYPARALEYKNL  1\n",
      "866  SRKYPARALEYKNL  1\n",
      "867  SRKYPARALEYKNL  1\n",
      "868  SRKYPARALEYKNL  1\n",
      "869  LVGARGTVYGFCLL  1\n",
      "870  LVGARGTVYGFCLL  1\n",
      "871  ISSPPMFRVPVNPV  1\n",
      "872  LVGARGTVYGFCLL  1\n",
      "873  ISSPPMFRVPVNPV  1\n",
      "874  REDKSRKYPARALE  1\n",
      "875  PMPMTVTLISSPPM  1\n",
      "876  ACGLSCLEFWQRVL  1\n",
      "877  SRKYPARALEYKNL  1\n",
      "878  FRNPGFALAAAAIA  1\n",
      "879  LIAPAYSIRCIGVS  1\n",
      "880  QVYSLIRPNENPAH  1\n",
      "881  VVSYVNTNMGLKFR  1\n",
      "882  GLKFRQLLWFHISC  1\n",
      "\n",
      "[882 rows x 2 columns]\n"
     ]
    }
   ],
   "source": [
    "print(opos_f)"
   ]
  },
  {
   "cell_type": "code",
   "execution_count": null,
   "metadata": {},
   "outputs": [],
   "source": [
    "pti = pd.read_csv(\"/Volumes/Maxtor/4train.csv\")\n",
    "strings = pti['peptides']\n",
    "total_avg = sum( map(len, strings) ) / len(strings)\n",
    "total_max = max(strings, key=len)\n",
    "total_min = min(strings, key=len)\n",
    "print(total_avg,total_max,total_min)"
   ]
  },
  {
   "cell_type": "code",
   "execution_count": 11,
   "metadata": {},
   "outputs": [
    {
     "data": {
      "text/plain": [
       "True"
      ]
     },
     "execution_count": 11,
     "metadata": {},
     "output_type": "execute_result"
    }
   ],
   "source": [
    "type(12)==int"
   ]
  },
  {
   "cell_type": "code",
   "execution_count": 18,
   "metadata": {},
   "outputs": [
    {
     "name": "stdout",
     "output_type": "stream",
     "text": [
      "12\n"
     ]
    }
   ],
   "source": [
    "print(len(pt.loc[4217,'peptides']))"
   ]
  },
  {
   "cell_type": "code",
   "execution_count": 12,
   "metadata": {},
   "outputs": [],
   "source": [
    "Entrez.email =\"carloswertcarvajal@gmail.com\"\n",
    "IEDB = pd.read_csv('/Volumes/Maxtor/h2kball1.csv')\n",
    "IEDB2 = pd.read_csv('/Volumes/Maxtor/h2kball2.csv')\n",
    "IEDB = pd.concat([IEDB,IEDB2],ignore_index=True,sort=True)\n",
    "IEDB = IEDB[['Epitope.2','Epitope.8','Assay.4']]\n",
    "#IEDB = IEDB[~(IEDB['Assay.4']=='Negative')]\n",
    "IEDB = IEDB.drop_duplicates(subset='Epitope.2')\n",
    "#IEDB = IEDB.dropna(axis=0,subset=['Epitope.8']).reset_index(drop=True)\n",
    "namprop = IEDB[['Epitope.8']].drop_duplicates(subset='Epitope.8').reset_index(drop=True)\n",
    "#namprop = namprop.drop(list(range(0,4089))).reset_index(drop=True)"
   ]
  },
  {
   "cell_type": "code",
   "execution_count": 13,
   "metadata": {},
   "outputs": [
    {
     "name": "stdout",
     "output_type": "stream",
     "text": [
      "                     Epitope.8\n",
      "0     Parent Protein Accession\n",
      "1                       P0A263\n",
      "2                       Q9R2A2\n",
      "3                       P10211\n",
      "4                       P24770\n",
      "5                       P68714\n",
      "6                       P26673\n",
      "7                       P03431\n",
      "8                       Q6T340\n",
      "9                          NaN\n",
      "10                      P03508\n",
      "11                      P09991\n",
      "12                      O57286\n",
      "13                      P03466\n",
      "14                      P09992\n",
      "15                      P03496\n",
      "16                      P03452\n",
      "17                      P01012\n",
      "18                      P03485\n",
      "19                      P03254\n",
      "20                      P03468\n",
      "21                      P03428\n",
      "22                      P03433\n",
      "23                      Q76R62\n",
      "24                      P06821\n",
      "25                      P0C0U1\n",
      "26                      P21171\n",
      "27                      P23224\n",
      "28                      P13128\n",
      "29                      Q1BSK9\n",
      "...                        ...\n",
      "4799                    Q7CJL8\n",
      "4800                    Q7CJM0\n",
      "4801                    Q8ZCS5\n",
      "4802                    Q7CJP1\n",
      "4803                    Q0WCZ9\n",
      "4804                    Q7CJD1\n",
      "4805                    Q7CJD8\n",
      "4806                    Q0WCU0\n",
      "4807                    Q7CJF4\n",
      "4808                    Q7CJJ6\n",
      "4809                    Q0WCJ0\n",
      "4810                    Q9RCC7\n",
      "4811                    Q7CK34\n",
      "4812                    Q7CK50\n",
      "4813                    Q7CK57\n",
      "4814                    Q8ZC08\n",
      "4815                    Q74WX5\n",
      "4816                    Q7CKD8\n",
      "4817                    Q7CKH9\n",
      "4818                    Q8ZAN0\n",
      "4819                    Q7CKV0\n",
      "4820                    Q7CKV5\n",
      "4821                    Q7CKV6\n",
      "4822                    Q7CKW4\n",
      "4823                    Q7CKZ0\n",
      "4824                    Q7CFQ4\n",
      "4825                    Q8Z9X7\n",
      "4826                    Q7CFQ0\n",
      "4827                    Q7CFP1\n",
      "4828                    Q7ARG3\n",
      "\n",
      "[4829 rows x 1 columns]\n"
     ]
    }
   ],
   "source": [
    "print(namprop)"
   ]
  },
  {
   "cell_type": "code",
   "execution_count": 2,
   "metadata": {},
   "outputs": [],
   "source": [
    "pti = pd.read_csv(\"/Volumes/Maxtor/4train.csv\")"
   ]
  },
  {
   "cell_type": "code",
   "execution_count": 9,
   "metadata": {},
   "outputs": [
    {
     "name": "stdout",
     "output_type": "stream",
     "text": [
      "6714\n",
      "244335\n"
     ]
    }
   ],
   "source": [
    "print(len(pti[pti['NB']==1]))\n",
    "print(len(pti[pti['NB']==0]))"
   ]
  },
  {
   "cell_type": "code",
   "execution_count": null,
   "metadata": {},
   "outputs": [],
   "source": []
  }
 ],
 "metadata": {
  "kernelspec": {
   "display_name": "Python 3",
   "language": "python",
   "name": "python3"
  },
  "language_info": {
   "codemirror_mode": {
    "name": "ipython",
    "version": 3
   },
   "file_extension": ".py",
   "mimetype": "text/x-python",
   "name": "python",
   "nbconvert_exporter": "python",
   "pygments_lexer": "ipython3",
   "version": "3.7.1"
  }
 },
 "nbformat": 4,
 "nbformat_minor": 2
}
