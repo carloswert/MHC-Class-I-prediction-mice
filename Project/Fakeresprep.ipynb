{
 "cells": [
  {
   "cell_type": "code",
   "execution_count": 72,
   "metadata": {},
   "outputs": [],
   "source": [
    "import numpy as np\n",
    "import matplotlib.pyplot as plt\n",
    "import scipy as sc\n",
    "import pandas as pd\n",
    "from sklearn.utils import resample"
   ]
  },
  {
   "cell_type": "code",
   "execution_count": 40,
   "metadata": {},
   "outputs": [],
   "source": [
    "fake1=pd.read_csv(\"/Volumes/Maxtor/fakeproteins/fakeres1.csv\",delimiter=\";\",skiprows=1,encoding=\"iso-8859-1\")\n",
    "fake2=pd.read_csv(\"/Volumes/Maxtor/fakeproteins/fakeres2.csv\",delimiter=\";\",skiprows=1,encoding=\"iso-8859-1\")\n",
    "fake3=pd.read_csv(\"/Volumes/Maxtor/fakeproteins/fakeres3.csv\",delimiter=\";\",skiprows=1,encoding=\"iso-8859-1\")\n",
    "fake4=pd.read_csv(\"/Volumes/Maxtor/fakeproteins/fakeres4.csv\",delimiter=\";\",skiprows=1,encoding=\"iso-8859-1\")\n",
    "fake5=pd.read_csv(\"/Volumes/Maxtor/fakeproteins/fakeres5.csv\",delimiter=\";\",skiprows=1,encoding=\"iso-8859-1\")\n",
    "fake1[\"ID\"]=fake1[\"ID\"].str.replace(\"seq\",\"\").astype(int)\n",
    "fake2[\"ID\"]=fake2[\"ID\"].str.replace(\"seq\",\"\").astype(int)+max(fake1[\"ID\"])\n",
    "fake3[\"ID\"]=fake3[\"ID\"].str.replace(\"seq\",\"\").astype(int)+max(fake2[\"ID\"])\n",
    "fake4[\"ID\"]=fake4[\"ID\"].str.replace(\"seq\",\"\").astype(int)+max(fake3[\"ID\"])\n",
    "fake5[\"ID\"]=fake5[\"ID\"].str.replace(\"seq\",\"\").astype(int)+max(fake4[\"ID\"])\n",
    "fake=pd.concat([fake1,fake2,fake3,fake4,fake5],ignore_index=True)"
   ]
  },
  {
   "cell_type": "code",
   "execution_count": 75,
   "metadata": {},
   "outputs": [],
   "source": [
    "protein=pd.DataFrame(columns=['peptides','NB'])\n",
    "c=0\n",
    "for n in range(1,max(fake[\"ID\"])):\n",
    "    temp=fake.loc[fake[\"ID\"]==n]\n",
    "    if sum(temp[\"N_binders\"])>0:\n",
    "        index=temp.loc[temp[\"Rank\"]==min(temp[\"Rank\"])].index[0]\n",
    "        if temp.loc[index,'Core']=='#Â¿NOMBRE?':\n",
    "            pass\n",
    "        else:\n",
    "            protein.loc[c]=[temp.loc[index,'Core'],temp.loc[index,'N_binders']]\n",
    "            c=c+1\n",
    "    elif temp[\"Rank\"].empty==True:\n",
    "        pass\n",
    "    else:\n",
    "        index=temp.loc[temp[\"Rank\"]==max(temp[\"Rank\"])].index[0]\n",
    "        if temp.loc[index,'Core']=='#Â¿NOMBRE?':\n",
    "            pass\n",
    "        elif temp.loc[index,\"Rank\"]<99:\n",
    "            pass\n",
    "        else:\n",
    "            protein.loc[c]=[temp.loc[index,'Core'],temp.loc[index,'N_binders']]\n",
    "            c=c+1\n",
    "protein=protein.drop_duplicates(subset='peptides')\n",
    "#protein.to_csv(\"/Volumes/Maxtor/fakeproteins/fakeresmerge.csv\",index=False)"
   ]
  },
  {
   "cell_type": "code",
   "execution_count": 88,
   "metadata": {},
   "outputs": [],
   "source": [
    "#Data Balance\n",
    "data=protein\n",
    "df_majority = data[data['NB']==0]\n",
    "df_minority = data[data['NB']==1]\n",
    "df_majority_downsampled = resample(df_majority, \n",
    "                                 replace=False,     # sample with replacement\n",
    "                                 n_samples=df_minority['peptides'].size,    # to match majority class\n",
    "                                 random_state=123) # reproducible results\n",
    "data = pd.concat([df_minority, df_majority_downsampled])\n",
    "data.to_csv(\"/Volumes/Maxtor/fakeproteins/fakeresmerge2.csv\",index=False)"
   ]
  },
  {
   "cell_type": "code",
   "execution_count": null,
   "metadata": {},
   "outputs": [],
   "source": []
  },
  {
   "cell_type": "code",
   "execution_count": null,
   "metadata": {},
   "outputs": [],
   "source": []
  },
  {
   "cell_type": "code",
   "execution_count": null,
   "metadata": {},
   "outputs": [],
   "source": []
  },
  {
   "cell_type": "code",
   "execution_count": null,
   "metadata": {},
   "outputs": [],
   "source": []
  }
 ],
 "metadata": {
  "kernelspec": {
   "display_name": "Python 3",
   "language": "python",
   "name": "python3"
  },
  "language_info": {
   "codemirror_mode": {
    "name": "ipython",
    "version": 3
   },
   "file_extension": ".py",
   "mimetype": "text/x-python",
   "name": "python",
   "nbconvert_exporter": "python",
   "pygments_lexer": "ipython3",
   "version": "3.7.1"
  }
 },
 "nbformat": 4,
 "nbformat_minor": 2
}
