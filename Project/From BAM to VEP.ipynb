{
 "cells": [
  {
   "cell_type": "code",
   "execution_count": 2,
   "metadata": {},
   "outputs": [
    {
     "data": {
      "text/plain": [
       "1"
      ]
     },
     "execution_count": 2,
     "metadata": {},
     "output_type": "execute_result"
    }
   ],
   "source": [
    "import numpy as np\n",
    "import scipy as sci\n",
    "import matplotlib.pyplot as plt\n",
    "import subprocess\n",
    "\n",
    "#SNPs GATK processing of BAM:\n",
    "subprocess.Popen([\"java\",\"-jar\",\"/Users/carloswertcarvajal/Documents/Carlos/TFG/Project/gatk-4.1.0.0/gatk-package-4.1.0.0-local.jar\",\n",
    "                  \"Mutect2\",\"-R\",\"\",\"-I\",\"\",\"-tumor\",\"\",\"--disable-read-filter\",\"MateOnSameContigOrNoMappedMateReadFilter\",\n",
    "                 \"-O\",\"\"])\n",
    "subprocess.call(\"exit 1\", shell=True)\n"
   ]
  },
  {
   "cell_type": "code",
   "execution_count": 4,
   "metadata": {},
   "outputs": [
    {
     "data": {
      "text/plain": [
       "1"
      ]
     },
     "execution_count": 4,
     "metadata": {},
     "output_type": "execute_result"
    }
   ],
   "source": []
  },
  {
   "cell_type": "code",
   "execution_count": null,
   "metadata": {
    "collapsed": true
   },
   "outputs": [],
   "source": []
  }
 ],
 "metadata": {
  "kernelspec": {
   "display_name": "Python 3",
   "language": "python",
   "name": "python3"
  },
  "language_info": {
   "codemirror_mode": {
    "name": "ipython",
    "version": 3
   },
   "file_extension": ".py",
   "mimetype": "text/x-python",
   "name": "python",
   "nbconvert_exporter": "python",
   "pygments_lexer": "ipython3",
   "version": "3.7.1"
  }
 },
 "nbformat": 4,
 "nbformat_minor": 2
}
