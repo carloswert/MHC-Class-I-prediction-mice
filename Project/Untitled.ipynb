{
 "cells": [
  {
   "cell_type": "code",
   "execution_count": 5,
   "metadata": {},
   "outputs": [
    {
     "name": "stdout",
     "output_type": "stream",
     "text": [
      "Epoch 1/1\n",
      "10/10 [==============================] - 0s 14ms/step - loss: 0.7740\n"
     ]
    },
    {
     "ename": "NameError",
     "evalue": "name 'shuffle' is not defined",
     "output_type": "error",
     "traceback": [
      "\u001b[0;31m---------------------------------------------------------------------------\u001b[0m",
      "\u001b[0;31mNameError\u001b[0m                                 Traceback (most recent call last)",
      "\u001b[0;32m<ipython-input-5-8ea14790efc8>\u001b[0m in \u001b[0;36m<module>\u001b[0;34m\u001b[0m\n\u001b[1;32m     40\u001b[0m \u001b[0mY\u001b[0m \u001b[0;34m=\u001b[0m \u001b[0mnp\u001b[0m\u001b[0;34m.\u001b[0m\u001b[0mrandom\u001b[0m\u001b[0;34m.\u001b[0m\u001b[0mrand\u001b[0m\u001b[0;34m(\u001b[0m\u001b[0;36m10\u001b[0m\u001b[0;34m,\u001b[0m \u001b[0;36m5\u001b[0m\u001b[0;34m)\u001b[0m\u001b[0;34m\u001b[0m\u001b[0;34m\u001b[0m\u001b[0m\n\u001b[1;32m     41\u001b[0m \u001b[0mmodel\u001b[0m\u001b[0;34m.\u001b[0m\u001b[0mfit\u001b[0m\u001b[0;34m(\u001b[0m\u001b[0mX\u001b[0m\u001b[0;34m,\u001b[0m \u001b[0mY\u001b[0m\u001b[0;34m,\u001b[0m \u001b[0mbatch_size\u001b[0m\u001b[0;34m=\u001b[0m\u001b[0;36m8\u001b[0m\u001b[0;34m,\u001b[0m \u001b[0mcallbacks\u001b[0m\u001b[0;34m=\u001b[0m\u001b[0;34m[\u001b[0m\u001b[0mcbk\u001b[0m\u001b[0;34m]\u001b[0m\u001b[0;34m)\u001b[0m\u001b[0;34m\u001b[0m\u001b[0;34m\u001b[0m\u001b[0m\n\u001b[0;32m---> 42\u001b[0;31m \u001b[0;32mif\u001b[0m \u001b[0mshuffle\u001b[0m \u001b[0;34m==\u001b[0m \u001b[0;34m'batch'\u001b[0m\u001b[0;34m:\u001b[0m\u001b[0;34m\u001b[0m\u001b[0;34m\u001b[0m\u001b[0m\n\u001b[0m\u001b[1;32m     43\u001b[0m     \u001b[0mindex_array\u001b[0m \u001b[0;34m=\u001b[0m \u001b[0m_batch_shuffle\u001b[0m\u001b[0;34m(\u001b[0m\u001b[0mindex_array\u001b[0m\u001b[0;34m,\u001b[0m \u001b[0mbatch_size\u001b[0m\u001b[0;34m)\u001b[0m\u001b[0;34m\u001b[0m\u001b[0;34m\u001b[0m\u001b[0m\n\u001b[1;32m     44\u001b[0m \u001b[0;32melif\u001b[0m \u001b[0mshuffle\u001b[0m\u001b[0;34m:\u001b[0m\u001b[0;34m\u001b[0m\u001b[0;34m\u001b[0m\u001b[0m\n",
      "\u001b[0;31mNameError\u001b[0m: name 'shuffle' is not defined"
     ]
    }
   ],
   "source": [
    "import numpy as np\n",
    "import scipy as sc\n",
    "import matplotlib.pyplot as plt\n",
    "import pandas as pd\n",
    "from keras.layers import Dense, Dropout, Activation, Embedding, LSTM\n",
    "from keras.models import Sequential\n",
    "from keras.callbacks import Callback\n",
    "from keras import backend as K\n",
    "import tensorflow as tf\n",
    "\n",
    "class CollectOutputAndTarget(Callback):\n",
    "    def __init__(self):\n",
    "        super(CollectOutputAndTarget, self).__init__()\n",
    "        self.targets = []  # collect y_true batches\n",
    "        self.outputs = []  # collect y_pred batches\n",
    "\n",
    "        # the shape of these 2 variables will change according to batch shape\n",
    "        # to handle the \"last batch\", specify `validate_shape=False`\n",
    "        self.var_y_true = tf.Variable(0., validate_shape=False)\n",
    "        self.var_y_pred = tf.Variable(0., validate_shape=False)\n",
    "\n",
    "    def on_batch_end(self, batch, logs=None):\n",
    "        # evaluate the variables and save them into lists\n",
    "        self.targets.append(K.eval(self.var_y_true))\n",
    "        self.outputs.append(K.eval(self.var_y_pred))\n",
    "\n",
    "# build a simple model\n",
    "# have to compile first for model.targets and model.outputs to be prepared\n",
    "model = Sequential([Dense(5, input_shape=(10,))])\n",
    "model.compile(loss='mse', optimizer='adam')\n",
    "\n",
    "# initialize the variables and the `tf.assign` ops\n",
    "cbk = CollectOutputAndTarget()\n",
    "fetches = [tf.assign(cbk.var_y_true, model.targets[0], validate_shape=False),\n",
    "           tf.assign(cbk.var_y_pred, model.outputs[0], validate_shape=False)]\n",
    "model._function_kwargs = {'fetches': fetches}  # use `model._function_kwargs` if using `Model` instead of `Sequential`\n",
    "\n",
    "# fit the model and check results\n",
    "X = np.random.rand(10, 10)\n",
    "Y = np.random.rand(10, 5)\n",
    "model.fit(X, Y, batch_size=8, callbacks=[cbk])\n",
    "if shuffle == 'batch':\n",
    "    index_array = _batch_shuffle(index_array, batch_size)\n",
    "elif shuffle:\n",
    "    np.random.shuffle(index_array)\n",
    "\n",
    "print('Index array:', repr(index_array))  # Add this line\n",
    "\n",
    "batches = _make_batches(num_train_samples, batch_size)"
   ]
  },
  {
   "cell_type": "code",
   "execution_count": 4,
   "metadata": {},
   "outputs": [
    {
     "name": "stdout",
     "output_type": "stream",
     "text": [
      "<__main__.CollectOutputAndTarget object at 0xb2cde4400>\n"
     ]
    }
   ],
   "source": [
    "print(cbk)"
   ]
  },
  {
   "cell_type": "code",
   "execution_count": 1,
   "metadata": {},
   "outputs": [],
   "source": [
    "import numpy as np\n",
    "import scipy as sc\n",
    "import matplotlib.pyplot as plt\n",
    "import pandas as pd"
   ]
  },
  {
   "cell_type": "code",
   "execution_count": 4,
   "metadata": {},
   "outputs": [
    {
     "name": "stdout",
     "output_type": "stream",
     "text": [
      "10     10.0\n",
      "20     20.0\n",
      "0.4     0.4\n",
      "1       1.0\n",
      "0.2     0.2\n",
      "30     30.0\n",
      "5       5.0\n",
      "5.1    50.0\n",
      "Name: 97, dtype: float64 0.955193492078\n",
      "10     10.0\n",
      "20     20.0\n",
      "0.4     0.4\n",
      "1       1.0\n",
      "0.2     0.2\n",
      "30     10.0\n",
      "5       5.0\n",
      "5.1    50.0\n",
      "Name: 99, dtype: float64 0.778463573464\n",
      "10     10.0\n",
      "20     20.0\n",
      "0.4     0.4\n",
      "1       1.0\n",
      "0.2     0.2\n",
      "30      5.0\n",
      "5      50.0\n",
      "5.1    30.0\n",
      "Name: 87, dtype: float64 0.867714760729\n",
      "10     10.0\n",
      "20     20.0\n",
      "0.4     0.4\n",
      "1       1.0\n",
      "0.2     0.2\n",
      "30     10.0\n",
      "5       5.0\n",
      "5.1    50.0\n",
      "Name: 99, dtype: float64 0.95499355374\n"
     ]
    }
   ],
   "source": [
    "data=pd.read_csv('/Users/carloswertcarvajal/Downloads/job2.csv')\n",
    "#Accuracy, prec,recall, spec\n",
    "acc=data.loc[:,'10']\n",
    "acc=acc[acc<=1]\n",
    "prec=data.loc[:,'20']\n",
    "prec=prec[prec<=1]\n",
    "rec=data.loc[:,'0.4']\n",
    "rec=rec[rec<=1]\n",
    "spe=data.loc[:,'1']\n",
    "spe=spe[spe<=0.99999999999999]\n",
    "print(data.loc[acc.idxmax()-1,:],acc.max())\n",
    "print(data.loc[prec.idxmax()-1,:],prec.max())\n",
    "print(data.loc[rec.idxmax()-1,:],rec.max())\n",
    "print(data.loc[spe.idxmax()-1,:],spe.max())"
   ]
  },
  {
   "cell_type": "code",
   "execution_count": 3,
   "metadata": {},
   "outputs": [
    {
     "name": "stdout",
     "output_type": "stream",
     "text": [
      "            10         20       0.4         1  0.2    30     5   5.1\n",
      "0     0.941101   0.742296  0.708917  0.940872  NaN   NaN   NaN   NaN\n",
      "1    10.000000  20.000000  0.400000  1.000000  0.2  10.0   5.0   5.0\n",
      "2     0.946565   0.753208  0.739993  0.944007  NaN   NaN   NaN   NaN\n",
      "3    10.000000  20.000000  0.400000  1.000000  0.2   5.0   5.0   5.0\n",
      "4     0.924676   0.637513  0.802463  0.891763  NaN   NaN   NaN   NaN\n",
      "5    10.000000  20.000000  0.400000  1.000000  0.2  50.0   5.0   5.0\n",
      "6     0.932128   0.739303  0.759505  0.937271  NaN   NaN   NaN   NaN\n",
      "7    10.000000  20.000000  0.400000  1.000000  0.2   5.0  10.0   5.0\n",
      "8     0.936374   0.695016  0.736692  0.926113  NaN   NaN   NaN   NaN\n",
      "9    10.000000  20.000000  0.400000  1.000000  0.2  10.0  10.0   5.0\n",
      "10    0.940426   0.714056  0.813144  0.923526  NaN   NaN   NaN   NaN\n",
      "11   10.000000  20.000000  0.400000  1.000000  0.2  30.0  10.0   5.0\n",
      "12    0.926208   0.766819  0.658572  0.953702  NaN   NaN   NaN   NaN\n",
      "13   10.000000  20.000000  0.400000  1.000000  0.2   5.0  30.0   5.0\n",
      "14    0.927464   0.661517  0.791304  0.900176  NaN   NaN   NaN   NaN\n",
      "15   10.000000  20.000000  0.400000  1.000000  0.2  50.0  10.0   5.0\n",
      "16    0.909479   0.719055  0.628534  0.942392  NaN   NaN   NaN   NaN\n",
      "17   10.000000  20.000000  0.400000  1.000000  0.2  30.0  30.0   5.0\n",
      "18    0.917946   0.733811  0.734057  0.934455  NaN   NaN   NaN   NaN\n",
      "19   10.000000  20.000000  0.400000  1.000000  0.2  10.0  30.0   5.0\n",
      "20    0.926178   0.690604  0.776549  0.914981  NaN   NaN   NaN   NaN\n",
      "21   10.000000  20.000000  0.400000  1.000000  0.2  50.0  30.0   5.0\n",
      "22    0.910375   0.647873  0.653698  0.919167  NaN   NaN   NaN   NaN\n",
      "23   10.000000  20.000000  0.400000  1.000000  0.2   5.0  50.0   5.0\n",
      "24    0.929069   0.660804  0.828550  0.898896  NaN   NaN   NaN   NaN\n",
      "25   10.000000  20.000000  0.400000  1.000000  0.2  30.0  50.0   5.0\n",
      "26    0.891300   0.559785  0.773517  0.849142  NaN   NaN   NaN   NaN\n",
      "27   10.000000  20.000000  0.400000  1.000000  0.2  10.0  50.0   5.0\n",
      "28    0.942204   0.690556  0.825814  0.907949  NaN   NaN   NaN   NaN\n",
      "29   10.000000  20.000000  0.400000  1.000000  0.2  50.0  50.0   5.0\n",
      "..         ...        ...       ...       ...  ...   ...   ...   ...\n",
      "97   10.000000  20.000000  0.400000  1.000000  0.2  30.0   5.0  50.0\n",
      "98    0.955193   0.740269  0.815376  0.935751  NaN   NaN   NaN   NaN\n",
      "99   10.000000  20.000000  0.400000  1.000000  0.2  10.0   5.0  50.0\n",
      "100   0.930268   0.778464  0.663503  0.954994  NaN   NaN   NaN   NaN\n",
      "101  10.000000  20.000000  0.400000  1.000000  0.2   5.0  10.0  50.0\n",
      "102   0.922131   0.699605  0.793199  0.911079  NaN   NaN   NaN   NaN\n",
      "103  10.000000  20.000000  0.400000  1.000000  0.2  50.0   5.0  50.0\n",
      "104   0.914801   0.689556  0.705217  0.924183  NaN   NaN   NaN   NaN\n",
      "105  10.000000  20.000000  0.400000  1.000000  0.2  10.0  10.0  50.0\n",
      "106   0.940468   0.729299  0.739247  0.937060  NaN   NaN   NaN   NaN\n",
      "107  10.000000  20.000000  0.400000  1.000000  0.2  30.0  10.0  50.0\n",
      "108   0.923974   0.743596  0.778247  0.935850  NaN   NaN   NaN   NaN\n",
      "109  10.000000  20.000000  0.400000  1.000000  0.2  50.0  10.0  50.0\n",
      "110   0.907635   0.590776  0.694199  0.885279  NaN   NaN   NaN   NaN\n",
      "111  10.000000  20.000000  0.400000  1.000000  0.2   5.0  30.0  50.0\n",
      "112   0.937827   0.712504  0.836089  0.918354  NaN   NaN   NaN   NaN\n",
      "113  10.000000  20.000000  0.400000  1.000000  0.2  10.0  30.0  50.0\n",
      "114   0.928167   0.689773  0.793662  0.913287  NaN   NaN   NaN   NaN\n",
      "115  10.000000  20.000000  0.400000  1.000000  0.2  30.0  30.0  50.0\n",
      "116   0.885813   0.614962  0.723824  0.886760  NaN   NaN   NaN   NaN\n",
      "117  10.000000  20.000000  0.400000  1.000000  0.2  50.0  30.0  50.0\n",
      "118   0.908596   0.603039  0.791285  0.865775  NaN   NaN   NaN   NaN\n",
      "119  10.000000  20.000000  0.400000  1.000000  0.2   5.0  50.0  50.0\n",
      "120   0.925988   0.689564  0.791312  0.916635  NaN   NaN   NaN   NaN\n",
      "121  10.000000  20.000000  0.400000  1.000000  0.2  30.0  50.0  50.0\n",
      "122   0.913985   0.653807  0.676571  0.912570  NaN   NaN   NaN   NaN\n",
      "123  10.000000  20.000000  0.400000  1.000000  0.2  10.0  50.0  50.0\n",
      "124   0.939108   0.669260  0.765463  0.912387  NaN   NaN   NaN   NaN\n",
      "125  10.000000  20.000000  0.400000  1.000000  0.2  50.0  50.0  50.0\n",
      "126   0.907123   0.579547  0.801363  0.863144  NaN   NaN   NaN   NaN\n",
      "\n",
      "[127 rows x 8 columns]\n"
     ]
    }
   ],
   "source": [
    "print(data)"
   ]
  },
  {
   "cell_type": "code",
   "execution_count": null,
   "metadata": {},
   "outputs": [],
   "source": []
  }
 ],
 "metadata": {
  "kernelspec": {
   "display_name": "Python 3",
   "language": "python",
   "name": "python3"
  },
  "language_info": {
   "codemirror_mode": {
    "name": "ipython",
    "version": 3
   },
   "file_extension": ".py",
   "mimetype": "text/x-python",
   "name": "python",
   "nbconvert_exporter": "python",
   "pygments_lexer": "ipython3",
   "version": "3.7.1"
  }
 },
 "nbformat": 4,
 "nbformat_minor": 2
}
